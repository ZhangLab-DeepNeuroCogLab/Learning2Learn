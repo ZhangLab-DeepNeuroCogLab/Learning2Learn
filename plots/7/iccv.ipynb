{
 "cells": [
  {
   "cell_type": "code",
   "execution_count": 1,
   "id": "a0fc09bb",
   "metadata": {},
   "outputs": [],
   "source": [
    "import pandas as pd\n",
    "import os\n",
    "import matplotlib.pyplot as plt\n",
    "plt.style.use(['science', 'no-latex'])\n",
    "\n",
    "file_list = os.listdir()\n",
    "file_list = [_file for _file in file_list if 'FashionMNIST' in _file]"
   ]
  },
  {
   "cell_type": "code",
   "execution_count": 2,
   "id": "2798a160",
   "metadata": {},
   "outputs": [
    {
     "data": {
      "text/html": [
       "<div>\n",
       "<style scoped>\n",
       "    .dataframe tbody tr th:only-of-type {\n",
       "        vertical-align: middle;\n",
       "    }\n",
       "\n",
       "    .dataframe tbody tr th {\n",
       "        vertical-align: top;\n",
       "    }\n",
       "\n",
       "    .dataframe thead th {\n",
       "        text-align: right;\n",
       "    }\n",
       "</style>\n",
       "<table border=\"1\" class=\"dataframe\">\n",
       "  <thead>\n",
       "    <tr style=\"text-align: right;\">\n",
       "      <th></th>\n",
       "      <th>strategies</th>\n",
       "      <th>ascore</th>\n",
       "      <th>random</th>\n",
       "    </tr>\n",
       "  </thead>\n",
       "  <tbody>\n",
       "    <tr>\n",
       "      <th>0</th>\n",
       "      <td>220.013889</td>\n",
       "      <td>259.555556</td>\n",
       "      <td>256.012222</td>\n",
       "    </tr>\n",
       "    <tr>\n",
       "      <th>1</th>\n",
       "      <td>132.888889</td>\n",
       "      <td>146.333333</td>\n",
       "      <td>154.315556</td>\n",
       "    </tr>\n",
       "    <tr>\n",
       "      <th>2</th>\n",
       "      <td>44.791667</td>\n",
       "      <td>45.888889</td>\n",
       "      <td>46.600000</td>\n",
       "    </tr>\n",
       "    <tr>\n",
       "      <th>3</th>\n",
       "      <td>13.916667</td>\n",
       "      <td>15.111111</td>\n",
       "      <td>14.726667</td>\n",
       "    </tr>\n",
       "    <tr>\n",
       "      <th>4</th>\n",
       "      <td>7.805556</td>\n",
       "      <td>7.666667</td>\n",
       "      <td>8.446667</td>\n",
       "    </tr>\n",
       "  </tbody>\n",
       "</table>\n",
       "</div>"
      ],
      "text/plain": [
       "   strategies      ascore      random\n",
       "0  220.013889  259.555556  256.012222\n",
       "1  132.888889  146.333333  154.315556\n",
       "2   44.791667   45.888889   46.600000\n",
       "3   13.916667   15.111111   14.726667\n",
       "4    7.805556    7.666667    8.446667"
      ]
     },
     "execution_count": 2,
     "metadata": {},
     "output_type": "execute_result"
    }
   ],
   "source": [
    "df_columns = ['between-algorithms', 'ascore', 'algorithm-random']\n",
    "\n",
    "base_file = 'categorical_otdd_naive-curriculum_torchvision.datasets.mnist.FashionMNIST_classes.5.pkl'\n",
    "base_df = pd.read_pickle(base_file)\n",
    "\n",
    "base_df.head()"
   ]
  },
  {
   "cell_type": "code",
   "execution_count": 3,
   "id": "b8692930",
   "metadata": {},
   "outputs": [
    {
     "name": "stdout",
     "output_type": "stream",
     "text": [
      "['categorical_otdd_naive-curriculum_torchvision.datasets.mnist.FashionMNIST_lr.0.002_classes.5.pkl', 'categorical_otdd_naive-curriculum_torchvision.datasets.mnist.FashionMNIST_lr.0.0005_classes.5.pkl']\n"
     ]
    },
    {
     "data": {
      "text/html": [
       "<div>\n",
       "<style scoped>\n",
       "    .dataframe tbody tr th:only-of-type {\n",
       "        vertical-align: middle;\n",
       "    }\n",
       "\n",
       "    .dataframe tbody tr th {\n",
       "        vertical-align: top;\n",
       "    }\n",
       "\n",
       "    .dataframe thead th {\n",
       "        text-align: right;\n",
       "    }\n",
       "</style>\n",
       "<table border=\"1\" class=\"dataframe\">\n",
       "  <thead>\n",
       "    <tr style=\"text-align: right;\">\n",
       "      <th></th>\n",
       "      <th>between-algorithms</th>\n",
       "      <th>algorithm-random</th>\n",
       "    </tr>\n",
       "  </thead>\n",
       "  <tbody>\n",
       "    <tr>\n",
       "      <th>0.5e-3</th>\n",
       "      <td>0.486549</td>\n",
       "      <td>0.513451</td>\n",
       "    </tr>\n",
       "    <tr>\n",
       "      <th>1e-3</th>\n",
       "      <td>0.480276</td>\n",
       "      <td>0.519724</td>\n",
       "    </tr>\n",
       "    <tr>\n",
       "      <th>2e-3</th>\n",
       "      <td>0.499476</td>\n",
       "      <td>0.500524</td>\n",
       "    </tr>\n",
       "  </tbody>\n",
       "</table>\n",
       "</div>"
      ],
      "text/plain": [
       "        between-algorithms  algorithm-random\n",
       "0.5e-3            0.486549          0.513451\n",
       "1e-3              0.480276          0.519724\n",
       "2e-3              0.499476          0.500524"
      ]
     },
     "execution_count": 3,
     "metadata": {},
     "output_type": "execute_result"
    },
    {
     "data": {
      "image/png": "[encoded data removed]",
      "text/plain": [
       "<Figure size 252x189 with 1 Axes>"
      ]
     },
     "metadata": {
      "needs_background": "light"
     },
     "output_type": "display_data"
    }
   ],
   "source": [
    "# learning rate ablation\n",
    "lr_dfs = [base_df]\n",
    "\n",
    "lr_files = [_file for _file in file_list if '_lr' in _file]\n",
    "print(lr_files)\n",
    "for lr_file in lr_files:\n",
    "    lr_dfs.append(pd.read_pickle(lr_file))\n",
    "\n",
    "res_df_4 = pd.DataFrame(columns=df_columns)\n",
    "for idx, lr_df in enumerate(lr_dfs):\n",
    "    res_df_4.loc[idx] = lr_df.iloc[-1].values\n",
    "res_df_4.index = ['1e-3', '0.5e-3', '2e-3']\n",
    "res_df_4.sort_index(inplace=True)\n",
    "res_df_4.drop(['ascore'], axis=1, inplace=True)\n",
    "res_df_4 = res_df_4.div(res_df_4.sum(axis=1), axis=0)\n",
    "lr_df = res_df_4\n",
    "lr_df.plot.bar()\n",
    "plt.legend(loc='lower left')\n",
    "plt.xlabel('learning rate')\n",
    "plt.ylabel('consistency')\n",
    "plt.savefig('lr_ablation.png', dpi=200, bbox_inches='tight')\n",
    "lr_df"
   ]
  },
  {
   "cell_type": "code",
   "execution_count": 4,
   "id": "150ba7b3",
   "metadata": {},
   "outputs": [
    {
     "name": "stdout",
     "output_type": "stream",
     "text": [
      "['categorical_otdd_naive-curriculum_torchvision.datasets.mnist.FashionMNIST_epochs.10_classes.5.pkl', 'categorical_otdd_naive-curriculum_torchvision.datasets.mnist.FashionMNIST_epochs.20_classes.5.pkl']\n"
     ]
    },
    {
     "data": {
      "text/html": [
       "<div>\n",
       "<style scoped>\n",
       "    .dataframe tbody tr th:only-of-type {\n",
       "        vertical-align: middle;\n",
       "    }\n",
       "\n",
       "    .dataframe tbody tr th {\n",
       "        vertical-align: top;\n",
       "    }\n",
       "\n",
       "    .dataframe thead th {\n",
       "        text-align: right;\n",
       "    }\n",
       "</style>\n",
       "<table border=\"1\" class=\"dataframe\">\n",
       "  <thead>\n",
       "    <tr style=\"text-align: right;\">\n",
       "      <th></th>\n",
       "      <th>between-algorithms</th>\n",
       "      <th>algorithm-random</th>\n",
       "    </tr>\n",
       "  </thead>\n",
       "  <tbody>\n",
       "    <tr>\n",
       "      <th>1</th>\n",
       "      <td>0.480276</td>\n",
       "      <td>0.519724</td>\n",
       "    </tr>\n",
       "    <tr>\n",
       "      <th>10</th>\n",
       "      <td>0.334217</td>\n",
       "      <td>0.665783</td>\n",
       "    </tr>\n",
       "    <tr>\n",
       "      <th>20</th>\n",
       "      <td>0.440540</td>\n",
       "      <td>0.559460</td>\n",
       "    </tr>\n",
       "  </tbody>\n",
       "</table>\n",
       "</div>"
      ],
      "text/plain": [
       "    between-algorithms  algorithm-random\n",
       "1             0.480276          0.519724\n",
       "10            0.334217          0.665783\n",
       "20            0.440540          0.559460"
      ]
     },
     "execution_count": 4,
     "metadata": {},
     "output_type": "execute_result"
    },
    {
     "data": {
      "image/png": "[encoded data removed]",
      "text/plain": [
       "<Figure size 252x189 with 1 Axes>"
      ]
     },
     "metadata": {
      "needs_background": "light"
     },
     "output_type": "display_data"
    }
   ],
   "source": [
    "# epoch ablation\n",
    "epochs_dfs = [base_df]\n",
    "\n",
    "epochs_files = [_file for _file in file_list if '_epochs' in _file and '.3' not in _file]\n",
    "print(epochs_files)\n",
    "for epochs_file in epochs_files:\n",
    "    epochs_dfs.append(pd.read_pickle(epochs_file))\n",
    "\n",
    "res_df_4 = pd.DataFrame(columns=df_columns)\n",
    "for idx, epochs_df in enumerate(epochs_dfs):\n",
    "    res_df_4.loc[idx] = epochs_df.iloc[-1].values\n",
    "res_df_4.index = ['1', '20', '10']\n",
    "res_df_4.sort_index(inplace=True)\n",
    "res_df_4.drop(['ascore'], axis=1, inplace=True)\n",
    "res_df_4 = res_df_4.div(res_df_4.sum(axis=1), axis=0)\n",
    "epoch_df = res_df_4\n",
    "epoch_df.plot.bar()\n",
    "plt.legend(loc='upper left')\n",
    "plt.xlabel('epochs')\n",
    "plt.ylabel('normalized scores [lower is better]')\n",
    "plt.savefig('epochs_ablation.png', dpi=200)\n",
    "epoch_df"
   ]
  },
  {
   "cell_type": "code",
   "execution_count": 5,
   "id": "eb0be502",
   "metadata": {},
   "outputs": [
    {
     "name": "stdout",
     "output_type": "stream",
     "text": [
      "['categorical_otdd_naive-curriculum_torchvision.datasets.mnist.FashionMNIST_init.gaussian_classes.5.pkl', 'categorical_otdd_naive-curriculum_torchvision.datasets.mnist.FashionMNIST_init.xavier_classes.5.pkl']\n"
     ]
    },
    {
     "data": {
      "text/html": [
       "<div>\n",
       "<style scoped>\n",
       "    .dataframe tbody tr th:only-of-type {\n",
       "        vertical-align: middle;\n",
       "    }\n",
       "\n",
       "    .dataframe tbody tr th {\n",
       "        vertical-align: top;\n",
       "    }\n",
       "\n",
       "    .dataframe thead th {\n",
       "        text-align: right;\n",
       "    }\n",
       "</style>\n",
       "<table border=\"1\" class=\"dataframe\">\n",
       "  <thead>\n",
       "    <tr style=\"text-align: right;\">\n",
       "      <th></th>\n",
       "      <th>between-algorithms</th>\n",
       "      <th>algorithm-random</th>\n",
       "    </tr>\n",
       "  </thead>\n",
       "  <tbody>\n",
       "    <tr>\n",
       "      <th>gaussian</th>\n",
       "      <td>0.477592</td>\n",
       "      <td>0.522408</td>\n",
       "    </tr>\n",
       "    <tr>\n",
       "      <th>uniform</th>\n",
       "      <td>0.480276</td>\n",
       "      <td>0.519724</td>\n",
       "    </tr>\n",
       "    <tr>\n",
       "      <th>xavier</th>\n",
       "      <td>0.497329</td>\n",
       "      <td>0.502671</td>\n",
       "    </tr>\n",
       "  </tbody>\n",
       "</table>\n",
       "</div>"
      ],
      "text/plain": [
       "          between-algorithms  algorithm-random\n",
       "gaussian            0.477592          0.522408\n",
       "uniform             0.480276          0.519724\n",
       "xavier              0.497329          0.502671"
      ]
     },
     "execution_count": 5,
     "metadata": {},
     "output_type": "execute_result"
    },
    {
     "data": {
      "image/png": "[encoded data removed]",
      "text/plain": [
       "<Figure size 252x189 with 1 Axes>"
      ]
     },
     "metadata": {
      "needs_background": "light"
     },
     "output_type": "display_data"
    }
   ],
   "source": [
    "# init ablation\n",
    "init_dfs = [base_df]\n",
    "\n",
    "init_files = [_file for _file in file_list if '_init' in _file]\n",
    "print(init_files)\n",
    "for init_file in init_files:\n",
    "    init_dfs.append(pd.read_pickle(init_file))\n",
    "\n",
    "res_df_4 = pd.DataFrame(columns=df_columns)\n",
    "for idx, init_df in enumerate(init_dfs):\n",
    "    res_df_4.loc[idx] = init_df.iloc[-1].values\n",
    "res_df_4.index = ['uniform', 'gaussian', 'xavier']\n",
    "res_df_4.sort_index(inplace=True)\n",
    "res_df_4.drop(['ascore'], axis=1, inplace=True)\n",
    "res_df_4 = res_df_4.div(res_df_4.sum(axis=1), axis=0)\n",
    "init_df = res_df_4\n",
    "init_df.plot.bar()\n",
    "plt.legend(loc='lower left')\n",
    "plt.xlabel('initialization')\n",
    "plt.ylabel('normalized scores [lower is better]')\n",
    "plt.savefig('init_ablation.png', dpi=100, bbox_inches='tight')\n",
    "init_df"
   ]
  },
  {
   "cell_type": "code",
   "execution_count": 7,
   "id": "ce1fa91d",
   "metadata": {},
   "outputs": [
    {
     "name": "stdout",
     "output_type": "stream",
     "text": [
      "['categorical_otdd_naive-curriculum_torchvision.datasets.mnist.FashionMNIST_model.ResNet32_CIFAR100_classes.5.pkl']\n",
      "   between-algorithms     ascore  algorithm-random\n",
      "0            7.805556   7.666667          8.446667\n",
      "1           37.166667  37.666667         37.593333\n"
     ]
    },
    {
     "data": {
      "text/html": [
       "<div>\n",
       "<style scoped>\n",
       "    .dataframe tbody tr th:only-of-type {\n",
       "        vertical-align: middle;\n",
       "    }\n",
       "\n",
       "    .dataframe tbody tr th {\n",
       "        vertical-align: top;\n",
       "    }\n",
       "\n",
       "    .dataframe thead th {\n",
       "        text-align: right;\n",
       "    }\n",
       "</style>\n",
       "<table border=\"1\" class=\"dataframe\">\n",
       "  <thead>\n",
       "    <tr style=\"text-align: right;\">\n",
       "      <th></th>\n",
       "      <th>between-algorithms</th>\n",
       "      <th>algorithm-random</th>\n",
       "    </tr>\n",
       "  </thead>\n",
       "  <tbody>\n",
       "    <tr>\n",
       "      <th>0</th>\n",
       "      <td>0.326334</td>\n",
       "      <td>0.353138</td>\n",
       "    </tr>\n",
       "    <tr>\n",
       "      <th>1</th>\n",
       "      <td>0.330586</td>\n",
       "      <td>0.334381</td>\n",
       "    </tr>\n",
       "  </tbody>\n",
       "</table>\n",
       "</div>"
      ],
      "text/plain": [
       "   between-algorithms  algorithm-random\n",
       "0            0.326334          0.353138\n",
       "1            0.330586          0.334381"
      ]
     },
     "execution_count": 7,
     "metadata": {},
     "output_type": "execute_result"
    },
    {
     "data": {
      "image/png": "[encoded data removed]",
      "text/plain": [
       "<Figure size 252x189 with 1 Axes>"
      ]
     },
     "metadata": {
      "needs_background": "light"
     },
     "output_type": "display_data"
    }
   ],
   "source": [
    "# model ablation\n",
    "model_dfs = [base_df]\n",
    "\n",
    "model_files = [_file for _file in file_list if '_model' in _file and 'ResNet32' in _file]\n",
    "print(model_files)\n",
    "for model_file in model_files:\n",
    "    model_dfs.append(pd.read_pickle(model_file))\n",
    "\n",
    "res_df_4 = pd.DataFrame(columns=df_columns)\n",
    "for idx, model_df in enumerate(model_dfs):\n",
    "    res_df_4.loc[idx] = model_df.iloc[-1].values\n",
    "print(res_df_4)\n",
    "# res_df_4.index = ['SNet100', 'SNet', 'ResNet']\n",
    "res_df_4.sort_index(inplace=True)\n",
    "res_df_4 = res_df_4.div(res_df_4.sum(axis=1), axis=0)\n",
    "model_df = res_df_4.drop(['ascore'], axis=1)\n",
    "model_df.plot.bar()\n",
    "plt.legend(loc='lower left')\n",
    "plt.xlabel('models')\n",
    "plt.ylabel('normalized scores [lower is better]')\n",
    "plt.savefig('model_ablation.png', dpi=100, bbox_inches='tight')\n",
    "model_df"
   ]
  },
  {
   "cell_type": "code",
   "execution_count": 8,
   "id": "e95a10e0",
   "metadata": {},
   "outputs": [
    {
     "data": {
      "image/png": "[encoded data removed]",
      "text/plain": [
       "<Figure size 1152x288 with 3 Axes>"
      ]
     },
     "metadata": {
      "needs_background": "light"
     },
     "output_type": "display_data"
    }
   ],
   "source": [
    "fig, axes = plt.subplots(nrows=1, ncols=3, figsize=(16, 4))\n",
    "epoch_df.plot.bar(ax=axes[0], legend=False, rot=315)\n",
    "lr_df.plot.bar(ax=axes[1], legend=False, rot=315)\n",
    "init_df.plot.bar(ax=axes[2], legend=False, rot=315)\n",
    "\n",
    "axes[0].set_xlabel('epochs\\n(A)')\n",
    "axes[1].set_xlabel('lr\\n(B)')\n",
    "axes[2].set_xlabel('init\\n(C)') \n",
    "\n",
    "axes[0].set_ylabel('H')\n",
    "axes[1].set_ylabel('H')\n",
    "axes[2].set_ylabel('H')\n",
    "\n",
    "# axes[0].get_xaxis().set_label_coords(0.5,-0.2)\n",
    "# axes[1].get_xaxis().set_label_coords(0.5,-0.2)\n",
    "# axes[2].get_xaxis().set_label_coords(0.5,-0.2)\n",
    "\n",
    "axes[0].xaxis.tick_top()\n",
    "axes[1].xaxis.tick_top()\n",
    "axes[2].xaxis.tick_top()\n",
    "\n",
    "axes[1].legend(ncol=2, loc='lower center', bbox_to_anchor=(0.5, -0.23), fontsize='large')\n",
    "\n",
    "axes[0].set_ylim(bottom=0.25)\n",
    "axes[1].set_ylim(bottom=0.40)\n",
    "axes[2].set_ylim(bottom=0.40)\n",
    "\n",
    "fig.savefig('paper.fig.ablation.png', dpi=100, bbox_inches='tight')"
   ]
  },
  {
   "cell_type": "code",
   "execution_count": null,
   "id": "ada1f397",
   "metadata": {},
   "outputs": [],
   "source": [
    "fig, axes = plt.subplots(nrows=1, ncols=2, figsize=(16, 4))\n",
    "lr_df.plot.bar(ax=axes[0], legend=False, rot=315)\n",
    "init_df.plot.bar(ax=axes[1], legend=False, rot=315)\n",
    "\n",
    "axes[0].set_xlabel('epochs\\n(a)')\n",
    "axes[1].set_xlabel('lr\\n(b)')\n",
    "axes[2].set_xlabel('init\\n(c)') \n",
    "\n",
    "axes[0].set_ylabel('H')\n",
    "axes[1].set_ylabel('H')\n",
    "axes[2].set_ylabel('H')\n",
    "\n",
    "# axes[0].get_xaxis().set_label_coords(0.5,-0.2)\n",
    "# axes[1].get_xaxis().set_label_coords(0.5,-0.2)\n",
    "# axes[2].get_xaxis().set_label_coords(0.5,-0.2)\n",
    "\n",
    "axes[0].xaxis.tick_top()\n",
    "axes[1].xaxis.tick_top()\n",
    "axes[2].xaxis.tick_top()\n",
    "\n",
    "axes[1].legend(ncol=2, loc='lower center', bbox_to_anchor=(0.5, -0.23), fontsize='large')\n",
    "\n",
    "axes[0].set_ylim(bottom=0.25)\n",
    "axes[1].set_ylim(bottom=0.40)\n",
    "axes[2].set_ylim(bottom=0.40)\n",
    "\n",
    "fig.savefig('paper.fig.ablation.png', dpi=100, bbox_inches='tight')"
   ]
  }
 ],
 "metadata": {
  "kernelspec": {
   "display_name": "pytorch36",
   "language": "python",
   "name": "python3"
  },
  "language_info": {
   "codemirror_mode": {
    "name": "ipython",
    "version": 3
   },
   "file_extension": ".py",
   "mimetype": "text/x-python",
   "name": "python",
   "nbconvert_exporter": "python",
   "pygments_lexer": "ipython3",
   "version": "3.6.13"
  }
 },
 "nbformat": 4,
 "nbformat_minor": 5
}
