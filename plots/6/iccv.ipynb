{
 "cells": [
  {
   "cell_type": "code",
   "execution_count": 1,
   "metadata": {},
   "outputs": [],
   "source": [
    "import pandas as pd\n",
    "import os\n",
    "import matplotlib.pyplot as plt\n",
    "import matplotlib as mpl\n",
    "import numpy as np\n",
    "plt.style.use(['science', 'no-latex'])\n",
    "mpl.rcParams['axes.spines.right'] = False\n",
    "mpl.rcParams['axes.spines.top'] = False\n",
    "\n",
    "file_list = os.listdir()\n",
    "file_list = [_file for _file in file_list if 'FashionMNIST' in _file]"
   ]
  },
  {
   "cell_type": "code",
   "execution_count": 2,
   "metadata": {},
   "outputs": [
    {
     "name": "stdout",
     "output_type": "stream",
     "text": [
      "['categorical_otdd_naive-curriculum_torchvision.datasets.mnist.MNIST_classes.5.pkl', 'categorical_otdd_naive-curriculum_torchvision.datasets.mnist.FashionMNIST_classes.5.pkl', 'categorical_otdd_naive-curriculum_torchvision.datasets.cifar.CIFAR10_classes.5.pkl']\n"
     ]
    },
    {
     "data": {
      "text/html": [
       "<div>\n",
       "<style scoped>\n",
       "    .dataframe tbody tr th:only-of-type {\n",
       "        vertical-align: middle;\n",
       "    }\n",
       "\n",
       "    .dataframe tbody tr th {\n",
       "        vertical-align: top;\n",
       "    }\n",
       "\n",
       "    .dataframe thead th {\n",
       "        text-align: right;\n",
       "    }\n",
       "</style>\n",
       "<table border=\"1\" class=\"dataframe\">\n",
       "  <thead>\n",
       "    <tr style=\"text-align: right;\">\n",
       "      <th></th>\n",
       "      <th>between-algorithms</th>\n",
       "      <th>algorithm-CD</th>\n",
       "      <th>algorithm-random</th>\n",
       "    </tr>\n",
       "  </thead>\n",
       "  <tbody>\n",
       "    <tr>\n",
       "      <th>MNIST</th>\n",
       "      <td>0.306901</td>\n",
       "      <td>0.337315</td>\n",
       "      <td>0.355784</td>\n",
       "    </tr>\n",
       "    <tr>\n",
       "      <th>FashionMNIST</th>\n",
       "      <td>0.326334</td>\n",
       "      <td>0.320528</td>\n",
       "      <td>0.353138</td>\n",
       "    </tr>\n",
       "    <tr>\n",
       "      <th>CIFAR10</th>\n",
       "      <td>0.318075</td>\n",
       "      <td>0.336391</td>\n",
       "      <td>0.345534</td>\n",
       "    </tr>\n",
       "  </tbody>\n",
       "</table>\n",
       "</div>"
      ],
      "text/plain": [
       "              between-algorithms  algorithm-CD  algorithm-random\n",
       "MNIST                   0.306901      0.337315          0.355784\n",
       "FashionMNIST            0.326334      0.320528          0.353138\n",
       "CIFAR10                 0.318075      0.336391          0.345534"
      ]
     },
     "execution_count": 2,
     "metadata": {},
     "output_type": "execute_result"
    },
    {
     "data": {
      "text/plain": [
       "<Figure size 900x900 with 0 Axes>"
      ]
     },
     "metadata": {},
     "output_type": "display_data"
    },
    {
     "data": {
      "image/png": "[encoded data removed]",
      "text/plain": [
       "<Figure size 288x216 with 1 Axes>"
      ]
     },
     "metadata": {
      "needs_background": "light"
     },
     "output_type": "display_data"
    }
   ],
   "source": [
    "df_columns = ['between-algorithms', 'algorithm-CD', 'algorithm-random']\n",
    "dataset_files = [\n",
    "    'categorical_otdd_naive-curriculum_torchvision.datasets.mnist.MNIST_classes.5.pkl',\n",
    "    'categorical_otdd_naive-curriculum_torchvision.datasets.mnist.FashionMNIST_classes.5.pkl',\n",
    "    'categorical_otdd_naive-curriculum_torchvision.datasets.cifar.CIFAR10_classes.5.pkl',\n",
    "]\n",
    "\n",
    "mpl.rcParams['axes.linewidth'] = 2\n",
    "plt.figure(figsize=(9, 9), dpi=100)\n",
    "lr_dfs = []\n",
    "lr_files = [_file for _file in dataset_files]\n",
    "print(lr_files)\n",
    "for lr_file in lr_files:\n",
    "    lr_dfs.append(pd.read_pickle(lr_file))\n",
    "\n",
    "res_df_1 = pd.DataFrame(columns=df_columns)\n",
    "for idx, lr_df in enumerate(lr_dfs):\n",
    "    res_df_1.loc[idx] = lr_df.iloc[-1].values\n",
    "res_df_1.index = ['MNIST', 'FashionMNIST', 'CIFAR10']\n",
    "res_df_1 = res_df_1.div(res_df_1.sum(axis=1), axis=0)\n",
    "\n",
    "fig, axes = plt.subplots(nrows=1, ncols=1, figsize=(4, 3))\n",
    "res_df_1.plot.bar(ax=axes, rot=315)\n",
    "# axes.set_xlabel('datasets')\n",
    "axes.set_ylabel('H', fontdict={'weight': 'bold', 'size': 21, 'fontname': 'TImes New Roman'})\n",
    "axes.set_ylim(bottom=0.20, top=0.50)\n",
    "plt.tick_params(axis=\"x\", which=\"both\", bottom=False, top=False)\n",
    "plt.tick_params(axis=\"y\", which=\"both\", left=False, right=False)\n",
    "plt.ylim(0.2, 0.4)\n",
    "plt.yticks([0.2, 0.4], weight='bold', size=21)\n",
    "plt.xticks([], weight='bold', size=21)\n",
    "plt.legend([])\n",
    "# fig.savefig('paper.fig.dataset.png', dpi=100, bbox_inches='tight')\n",
    "old_df = res_df_1\n",
    "old_df"
   ]
  },
  {
   "cell_type": "code",
   "execution_count": 3,
   "metadata": {},
   "outputs": [
    {
     "name": "stdout",
     "output_type": "stream",
     "text": [
      "['categorical_otdd_naive-curriculum_utils.custom_datasets.CustomNovelNet.pkl']\n"
     ]
    },
    {
     "data": {
      "text/html": [
       "<div>\n",
       "<style scoped>\n",
       "    .dataframe tbody tr th:only-of-type {\n",
       "        vertical-align: middle;\n",
       "    }\n",
       "\n",
       "    .dataframe tbody tr th {\n",
       "        vertical-align: top;\n",
       "    }\n",
       "\n",
       "    .dataframe thead th {\n",
       "        text-align: right;\n",
       "    }\n",
       "</style>\n",
       "<table border=\"1\" class=\"dataframe\">\n",
       "  <thead>\n",
       "    <tr style=\"text-align: right;\">\n",
       "      <th></th>\n",
       "      <th>algorithm-humans</th>\n",
       "      <th>CD-humans</th>\n",
       "      <th>random-humans</th>\n",
       "    </tr>\n",
       "  </thead>\n",
       "  <tbody>\n",
       "    <tr>\n",
       "      <th>NOD</th>\n",
       "      <td>0.245706</td>\n",
       "      <td>0.375389</td>\n",
       "      <td>0.378905</td>\n",
       "    </tr>\n",
       "  </tbody>\n",
       "</table>\n",
       "</div>"
      ],
      "text/plain": [
       "     algorithm-humans  CD-humans  random-humans\n",
       "NOD          0.245706   0.375389       0.378905"
      ]
     },
     "execution_count": 3,
     "metadata": {},
     "output_type": "execute_result"
    },
    {
     "data": {
      "text/plain": [
       "<Figure size 800x300 with 0 Axes>"
      ]
     },
     "metadata": {},
     "output_type": "display_data"
    },
    {
     "data": {
      "image/png": "[encoded data removed]",
      "text/plain": [
       "<Figure size 216x216 with 1 Axes>"
      ]
     },
     "metadata": {
      "needs_background": "light"
     },
     "output_type": "display_data"
    }
   ],
   "source": [
    "df_columns = ['algorithm-humans', 'CD-humans', 'random-humans']\n",
    "dataset_files = [\n",
    "    'categorical_otdd_naive-curriculum_utils.custom_datasets.CustomNovelNet.pkl'\n",
    "]\n",
    "\n",
    "plt.figure(figsize=(8, 3), dpi=100)\n",
    "lr_dfs = []\n",
    "lr_files = [_file for _file in dataset_files]\n",
    "print(lr_files)\n",
    "for lr_file in lr_files:\n",
    "    lr_dfs.append(pd.read_pickle(lr_file))\n",
    "\n",
    "res_df_1 = pd.DataFrame(columns=df_columns)\n",
    "for idx, lr_df in enumerate(lr_dfs):\n",
    "    res_df_1.loc[idx] = lr_df.iloc[-1].values\n",
    "res_df_1.index = ['NOD']\n",
    "res_df_1 = res_df_1.div(res_df_1.sum(axis=1), axis=0)\n",
    "\n",
    "fig, axes = plt.subplots(nrows=1, ncols=1, figsize=(3, 3))\n",
    "colors = plt.cm.Pastel1(np.linspace(0, 1, 3))\n",
    "res_df_1.plot.bar(ax=axes, rot=315, color=colors)\n",
    "axes.set_xlabel('dataset')\n",
    "axes.set_ylabel('hamming')\n",
    "axes.set_ylim(bottom=0.20, top=0.5)\n",
    "# fig.savefig('paper.fig.human.png', dpi=100, bbox_inches='tight')\n",
    "new_df = res_df_1\n",
    "new_df"
   ]
  },
  {
   "cell_type": "code",
   "execution_count": 4,
   "metadata": {},
   "outputs": [
    {
     "name": "stdout",
     "output_type": "stream",
     "text": [
      "              between-algorithms  algorithm-CD  algorithm-random\n",
      "MNIST                   0.306901      0.337315          0.355784\n",
      "FashionMNIST            0.326334      0.320528          0.353138\n",
      "CIFAR10                 0.318075      0.336391          0.345534\n",
      "     algorithm-humans  CD-humans  random-humans\n",
      "NOD          0.245706   0.375389       0.378905\n"
     ]
    },
    {
     "data": {
      "image/png": "[encoded data removed]",
      "text/plain": [
       "<Figure size 432x288 with 2 Axes>"
      ]
     },
     "metadata": {
      "needs_background": "light"
     },
     "output_type": "display_data"
    }
   ],
   "source": [
    "mpl.rcParams['axes.linewidth'] = 1\n",
    "mpl.rcParams['axes.spines.right'] = False\n",
    "mpl.rcParams['axes.spines.top'] = False\n",
    "\n",
    "fig, axes = plt.subplots(nrows=1, ncols=2, figsize=(6, 4), gridspec_kw={'width_ratios': [2.5, 1]})\n",
    "colors = plt.cm.Pastel1(np.linspace(0, 1, 3))\n",
    "old_df.plot.bar(ax=axes[0], rot=0, color=colors, linewidth=1, edgecolor='black', \n",
    "                fontsize='large')\n",
    "    new_df.plot.bar(ax=axes[1], rot=0, hatch='///', width=0.3, color=colors, linewidth=1, edgecolor='black',\n",
    "                fontsize='large')\n",
    "\n",
    "# axes[1].set_ylabel('hamming')\n",
    "axes[0].set_ylabel('H')\n",
    "\n",
    "axes[1].set_yticks([])\n",
    "axes[0].set_yticks([0.2, 0.3, 0.4])\n",
    "\n",
    "axes[1].legend(ncol=1, loc='center', bbox_to_anchor=(1.82, 0.35), fontsize='large')\n",
    "axes[0].legend(ncol=1, loc='center', bbox_to_anchor=(1.75, 0.65), fontsize='large')\n",
    "\n",
    "axes[1].set_ylim(bottom=0.20, top=0.40)\n",
    "axes[0].set_ylim(bottom=0.20, top=0.40)\n",
    "\n",
    "axes[1].tick_params(axis=\"x\", which=\"both\", bottom=False, top=False)\n",
    "axes[1].tick_params(axis=\"y\", which=\"both\", left=False, right=False)\n",
    "axes[0].tick_params(axis=\"x\", which=\"both\", bottom=False, top=False)\n",
    "axes[0].tick_params(axis=\"y\", which=\"both\", left=False, right=False)\n",
    "\n",
    "plt.subplots_adjust(wspace=0)\n",
    "\n",
    "# fig.savefig('paper.fig.comb.png', dpi=100, bbox_inches='tight')\n",
    "\n",
    "print(old_df)\n",
    "print(new_df)"
   ]
  },
  {
   "cell_type": "code",
   "execution_count": 6,
   "metadata": {},
   "outputs": [
    {
     "name": "stdout",
     "output_type": "stream",
     "text": [
      "['categorical_otdd_naive-curriculum_torchvision.datasets.mnist.MNIST.pkl', 'categorical_otdd_naive-curriculum_torchvision.datasets.mnist.FashionMNIST.pkl', 'categorical_otdd_naive-curriculum_torchvision.datasets.cifar.CIFAR10.pkl']\n"
     ]
    },
    {
     "data": {
      "text/html": [
       "<div>\n",
       "<style scoped>\n",
       "    .dataframe tbody tr th:only-of-type {\n",
       "        vertical-align: middle;\n",
       "    }\n",
       "\n",
       "    .dataframe tbody tr th {\n",
       "        vertical-align: top;\n",
       "    }\n",
       "\n",
       "    .dataframe thead th {\n",
       "        text-align: right;\n",
       "    }\n",
       "</style>\n",
       "<table border=\"1\" class=\"dataframe\">\n",
       "  <thead>\n",
       "    <tr style=\"text-align: right;\">\n",
       "      <th></th>\n",
       "      <th>between-algorithms</th>\n",
       "      <th>algorithm-CD</th>\n",
       "      <th>algorithm-random</th>\n",
       "    </tr>\n",
       "  </thead>\n",
       "  <tbody>\n",
       "    <tr>\n",
       "      <th>MNIST</th>\n",
       "      <td>0.328756</td>\n",
       "      <td>0.337079</td>\n",
       "      <td>0.334166</td>\n",
       "    </tr>\n",
       "    <tr>\n",
       "      <th>FashionMNIST</th>\n",
       "      <td>0.327399</td>\n",
       "      <td>0.344059</td>\n",
       "      <td>0.328541</td>\n",
       "    </tr>\n",
       "    <tr>\n",
       "      <th>CIFAR10</th>\n",
       "      <td>0.327444</td>\n",
       "      <td>0.330504</td>\n",
       "      <td>0.342052</td>\n",
       "    </tr>\n",
       "  </tbody>\n",
       "</table>\n",
       "</div>"
      ],
      "text/plain": [
       "              between-algorithms  algorithm-CD  algorithm-random\n",
       "MNIST                   0.328756      0.337079          0.334166\n",
       "FashionMNIST            0.327399      0.344059          0.328541\n",
       "CIFAR10                 0.327444      0.330504          0.342052"
      ]
     },
     "execution_count": 6,
     "metadata": {},
     "output_type": "execute_result"
    },
    {
     "data": {
      "text/plain": [
       "<Figure size 900x900 with 0 Axes>"
      ]
     },
     "metadata": {},
     "output_type": "display_data"
    },
    {
     "data": {
      "image/png": "[encoded data removed]",
      "text/plain": [
       "<Figure size 216x180 with 1 Axes>"
      ]
     },
     "metadata": {
      "needs_background": "light"
     },
     "output_type": "display_data"
    }
   ],
   "source": [
    "df_columns = ['between-algorithms', 'algorithm-CD', 'algorithm-random']\n",
    "dataset_files = [\n",
    "    'categorical_otdd_naive-curriculum_torchvision.datasets.mnist.MNIST.pkl',\n",
    "    'categorical_otdd_naive-curriculum_torchvision.datasets.mnist.FashionMNIST.pkl',\n",
    "    'categorical_otdd_naive-curriculum_torchvision.datasets.cifar.CIFAR10.pkl',\n",
    "]\n",
    "\n",
    "plt.figure(figsize=(9, 9), dpi=100)\n",
    "lr_dfs = []\n",
    "lr_files = [_file for _file in dataset_files]\n",
    "print(lr_files)\n",
    "for lr_file in lr_files:\n",
    "    lr_dfs.append(pd.read_pickle(lr_file))\n",
    "\n",
    "res_df_1 = pd.DataFrame(columns=df_columns)\n",
    "for idx, lr_df in enumerate(lr_dfs):\n",
    "    res_df_1.loc[idx] = lr_df.iloc[-1].values\n",
    "res_df_1.index = ['MNIST', 'FashionMNIST', 'CIFAR10']\n",
    "res_df_1 = res_df_1.div(res_df_1.sum(axis=1), axis=0)\n",
    "\n",
    "fig, axes = plt.subplots(nrows=1, ncols=1, figsize=(3, 2.5))\n",
    "res_df_1.plot.bar(ax=axes, rot=315)\n",
    "axes.set_xlabel('datasets')\n",
    "axes.set_ylabel('hamming')\n",
    "axes.set_ylim(bottom=0.25, top=0.35)\n",
    "# fig.savefig('paper.fig.dataset.10.png', dpi=100, bbox_inches='tight')\n",
    "old_df = res_df_1\n",
    "old_df"
   ]
  },
  {
   "cell_type": "code",
   "execution_count": 7,
   "metadata": {},
   "outputs": [
    {
     "data": {
      "image/png": "[encoded data removed]",
      "text/plain": [
       "<Figure size 432x288 with 1 Axes>"
      ]
     },
     "metadata": {
      "needs_background": "light"
     },
     "output_type": "display_data"
    }
   ],
   "source": [
    "fig, axes = plt.subplots(nrows=1, ncols=1, figsize=(6, 4))\n",
    "old_df.plot.bar(ax=axes, rot=0)\n",
    "\n",
    "axes.set_ylabel('H')\n",
    "\n",
    "axes.set_yticks([0.2, 0.25, 0.3, 0.35])\n",
    "\n",
    "axes.legend(ncol=3, loc='center', bbox_to_anchor=(0.5, 1.07), fontsize='medium')\n",
    "\n",
    "axes.set_ylim(bottom=0.20, top=0.35)\n",
    "\n",
    "plt.subplots_adjust(wspace=0)\n",
    "\n",
    "# fig.savefig('paper.fig.comb.10.png', dpi=100, bbox_inches='tight')"
   ]
  }
 ],
 "metadata": {
  "kernelspec": {
   "display_name": "Python 3",
   "language": "python",
   "name": "python3"
  },
  "language_info": {
   "codemirror_mode": {
    "name": "ipython",
    "version": 3
   },
   "file_extension": ".py",
   "mimetype": "text/x-python",
   "name": "python",
   "nbconvert_exporter": "python",
   "pygments_lexer": "ipython3",
   "version": "3.6.13"
  }
 },
 "nbformat": 4,
 "nbformat_minor": 2
}
