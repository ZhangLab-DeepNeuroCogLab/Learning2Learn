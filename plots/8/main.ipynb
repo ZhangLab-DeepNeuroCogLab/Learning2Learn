{
 "cells": [
  {
   "cell_type": "code",
   "execution_count": 20,
   "metadata": {},
   "outputs": [],
   "source": [
    "import os\n",
    "import pickle"
   ]
  },
  {
   "cell_type": "code",
   "execution_count": 27,
   "metadata": {},
   "outputs": [],
   "source": [
    "def get_immediate_subdirectories(a_dir):\n",
    "    return [name for name in os.listdir(a_dir)\n",
    "            if os.path.isdir(os.path.join(a_dir, name))]\n",
    "\n",
    "def log_parser(log_file):\n",
    "    for line in log_file:\n",
    "        if \"val/clvqa/textvqa_accuracy\" in line:\n",
    "            return float(line[line.rindex(' ') + 1:])\n",
    "\n",
    "def save_res(inp_list, save_loc):\n",
    "    with open('./{}.pkl'.format(save_loc), 'wb') as f:\n",
    "        pickle.dump(inp_list, f)"
   ]
  },
  {
   "cell_type": "code",
   "execution_count": 33,
   "metadata": {},
   "outputs": [],
   "source": [
    "strategy = 'ft' # ft, ewc\n",
    "num_tasks = 5"
   ]
  },
  {
   "cell_type": "code",
   "execution_count": 29,
   "metadata": {},
   "outputs": [],
   "source": [
    "results_subdirectories = [\n",
    "    dir for dir in get_immediate_subdirectories('results') if 'setting' in dir]\n",
    "permutations = [dir[-num_tasks:] for dir in results_subdirectories]\n"
   ]
  },
  {
   "cell_type": "code",
   "execution_count": 30,
   "metadata": {},
   "outputs": [],
   "source": [
    "t1_accuracy_dict, avg_accuracy_dict = dict(), dict()\n",
    "for permutation, subdir in zip(permutations, results_subdirectories):\n",
    "    res_path = 'results/{}/val_{}'.format(subdir, strategy)\n",
    "    t1_accuracy_list, avg_accuracy_list = [], []\n",
    "    classes_seen_so_far, task_1 = [], permutation[0]\n",
    "    for task in permutation:\n",
    "        classes_seen_so_far.append(task)\n",
    "        sum_acc = 0.0\n",
    "        for _class in classes_seen_so_far:\n",
    "            res_tuple = '{}2{}'.format(task, _class)\n",
    "            log_path = '{}/{}'.format(res_path, res_tuple)\n",
    "            log_file = open('{}/train.log'.format(log_path))\n",
    "            acc = log_parser(log_file)\n",
    "            if _class == task_1:\n",
    "                t1_accuracy_list.append(acc)\n",
    "            sum_acc += acc\n",
    "            log_file.close()\n",
    "        avg_acc = sum_acc / len(classes_seen_so_far)\n",
    "        avg_accuracy_list.append(avg_acc)\n",
    "    t1_accuracy_dict[permutation] = t1_accuracy_list\n",
    "    avg_accuracy_dict[permutation] = avg_accuracy_list\n",
    "    "
   ]
  },
  {
   "cell_type": "code",
   "execution_count": 32,
   "metadata": {},
   "outputs": [],
   "source": [
    "save_res(t1_accuracy_dict, \"{}-t1_accuracy_dict_{}\".format(strategy, 'vqa'))\n",
    "save_res(avg_accuracy_dict, \"{}-avg_accuracy_dict_{}\".format(strategy, 'vqa'))\n"
   ]
  }
 ],
 "metadata": {
  "kernelspec": {
   "display_name": "pytorch36",
   "language": "python",
   "name": "python3"
  },
  "language_info": {
   "codemirror_mode": {
    "name": "ipython",
    "version": 3
   },
   "file_extension": ".py",
   "mimetype": "text/x-python",
   "name": "python",
   "nbconvert_exporter": "python",
   "pygments_lexer": "ipython3",
   "version": "3.6.13"
  },
  "orig_nbformat": 4
 },
 "nbformat": 4,
 "nbformat_minor": 2
}
