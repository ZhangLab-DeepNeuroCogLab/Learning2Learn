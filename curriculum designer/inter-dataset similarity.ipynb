{
 "cells": [
  {
   "cell_type": "code",
   "execution_count": 3,
   "id": "3c38411a",
   "metadata": {},
   "outputs": [],
   "source": [
    "import os\n",
    "import random\n",
    "from PIL import Image\n",
    "from typing import Optional, Callable, List\n",
    "import numpy as np\n",
    "from scipy import spatial\n",
    "import seaborn as sns; sns.set_theme(style=\"whitegrid\", palette=\"pastel\")\n",
    "import matplotlib.pyplot as plt\n",
    "import pprint\n",
    "\n",
    "import torch\n",
    "import torch.nn as nn\n",
    "from torch.utils.data import Dataset, DataLoader\n",
    "from torch.utils.data.sampler import SubsetRandomSampler\n",
    "import torchvision.transforms as transforms\n",
    "from torchvision.models import squeezenet1_1\n",
    "\n",
    "from dataset import (\n",
    "    CustomImageNet, CustomStyleNet, CustomMNISTNet, CustomCIFAR10Net, CustomFashionMNISTNet, CustomNovelNet,\n",
    "    ImageNet2012\n",
    ")\n",
    "from utils import inet_classes\n",
    "\n",
    "\n",
    "seed = 0\n",
    "torch.backends.cuda.benchmark = True\n",
    "torch.manual_seed(seed)\n",
    "random.seed(seed)\n",
    "np.random.seed(seed)\n",
    "\n",
    "%matplotlib inline"
   ]
  },
  {
   "cell_type": "code",
   "execution_count": 4,
   "id": "37ba2b64",
   "metadata": {},
   "outputs": [],
   "source": [
    "from OTDD.otdd.pytorch.datasets import load_torchvision_data\n",
    "from OTDD.otdd.pytorch.distance import DatasetDistance, FeatureCost"
   ]
  },
  {
   "cell_type": "code",
   "execution_count": 98,
   "id": "782a830e",
   "metadata": {},
   "outputs": [],
   "source": [
    "data_dir = '/home/parantak/Documents/data'\n",
    "download = True\n",
    "class_groups = [[0, 1], [2, 3], [4, 5], [6, 7], [8, 9]]\n",
    "load_weights = True\n",
    "pretrained = True\n",
    "random = True\n",
    "dataset = CustomCIFAR10Net\n",
    "dataset_type = 'cifar105'\n",
    "device = 'cuda'\n",
    "layer = 6\n",
    "dist_type = 'otdd' # otdd/cosine/euclidean\n",
    "\n",
    "if dataset_type == 'imagenet':\n",
    "    tick_labels = ['airplane\\ncar', 'bird\\ncat', 'elephant\\ndog', 'bottle\\nknife', 'truck\\nboat']\n",
    "    samples_per_class = None # 223 - og\n",
    "elif dataset_type == 'stylenet':\n",
    "    tick_labels = ['candy\\nmosaic ducks massimo', 'pencil\\nseated nude', 'shipwreck\\nstarry night', 'stars2\\nstrip', 'the scream\\nwave']\n",
    "    samples_per_class = 250 # 250 - og\n",
    "elif dataset_type == 'mnist':\n",
    "    tick_labels = ['0, 1', '2, 3', '4, 5', '6, 7', '8, 9']\n",
    "    samples_per_class = 500 # 500 - og\n",
    "elif dataset_type == 'cifar10':\n",
    "    tick_labels = ['airplane\\nautomobile', 'bird\\ncat', 'deer\\ndog', 'frog\\nhorse', 'ship\\ntruck']\n",
    "    samples_per_class = 500 # 500 - og\n",
    "elif dataset_type == 'fashionmnist':\n",
    "    tick_labels = ['top\\ntrouser', 'pullover\\ndress', 'coat\\nsandal', 'shirt\\nsneaker', 'bag\\nankleboot']\n",
    "    samples_per_class = 500 # 500 - og\n",
    "elif dataset_type == 'novelnet':\n",
    "    tick_labels = ['fa1', 'fa2', 'fb1', 'fb3', 'fc1']\n",
    "    samples_per_class = 250 # 250 - og\n",
    "    class_groups = [[0], [1], [2], [3], [4]]\n",
    "elif dataset_type == 'fashionmnist5':\n",
    "    tick_labels = ['top', 'trouser', 'pullover', 'dress', 'coat']\n",
    "    class_groups = [[0], [1], [2], [3], [4]]\n",
    "    samples_per_class = 500 # 500 - og\n",
    "elif dataset_type == 'imagenet5':\n",
    "    tick_labels = ['airplane', 'car', 'bird', 'cat', 'elephant']\n",
    "    class_groups = [[0], [1], [2], [3], [4]]\n",
    "    samples_per_class = None # 223 - og\n",
    "elif dataset_type == 'mnist5':\n",
    "    tick_labels = ['0', '1', '2', '3', '4']\n",
    "    class_groups = [[0], [1], [2], [3], [4]]\n",
    "    samples_per_class = 500 # 500 - og\n",
    "elif dataset_type == 'cifar105':\n",
    "    tick_labels = ['airplane', 'automobile', 'bird', 'cat', 'deer']\n",
    "    class_groups = [[0], [1], [2], [3], [4]]\n",
    "    samples_per_class = 500 # 500 - og\n",
    "elif dataset_type == 'imagenet2012':\n",
    "    tick_labels = [str(i) for i in range(100)]\n",
    "    class_groups = [inet_classes[x:x+9] for x in range(0, len(inet_classes), 9)]\n",
    "    data_dir = '/data'\n",
    "    samples_per_class = 250"
   ]
  },
  {
   "cell_type": "code",
   "execution_count": 99,
   "id": "b850cb00",
   "metadata": {},
   "outputs": [
    {
     "name": "stdout",
     "output_type": "stream",
     "text": [
      "Files already downloaded and verified\n",
      "Files already downloaded and verified\n",
      "Files already downloaded and verified\n",
      "Files already downloaded and verified\n",
      "Files already downloaded and verified\n",
      "500\n",
      "500\n",
      "500\n",
      "500\n",
      "500\n"
     ]
    }
   ],
   "source": [
    "tr_transform, ts_transform = dataset.std_transform['train'], dataset.std_transform['eval']\n",
    "\n",
    "class_datasets = []\n",
    "for class_group in class_groups:\n",
    "    class_datasets.append(dataset(\n",
    "        root=data_dir, spec_target=class_group, train=True, transform=ts_transform, download=download,\n",
    "        samples_per_class=samples_per_class\n",
    "    ))\n",
    "\n",
    "for idx, dataset in enumerate(class_datasets):\n",
    "    labels = np.unique(dataset.targets)\n",
    "    mapping = {}\n",
    "    for i in range(len(labels)):\n",
    "        mapping[labels[i]] = i\n",
    "    dataset.targets = [mapping.get(number, number) for number in dataset.targets]\n",
    "    dataset.targets = torch.as_tensor(dataset.targets)\n",
    "    print(len(dataset.targets))\n",
    "    class_datasets[idx] = DataLoader(dataset, batch_size=64, shuffle=True, num_workers=0)"
   ]
  },
  {
   "cell_type": "code",
   "execution_count": 100,
   "id": "51b41bdd",
   "metadata": {},
   "outputs": [
    {
     "name": "stderr",
     "output_type": "stream",
     "text": [
      "                                                                                 \r"
     ]
    }
   ],
   "source": [
    "embedder = squeezenet1_1(pretrained=pretrained).to(device).eval()\n",
    "if load_weights:\n",
    "    checkpoint = torch.load(\n",
    "        '{}/{}/ImageNet100.pth.tar'.format('/home/parantak/Documents/models/weights', 'SqueezeNet')\n",
    "    )\n",
    "    embedder = nn.DataParallel(embedder)\n",
    "    embedder.module.classifier[1] = nn.Conv2d(512, 1000, kernel_size=(1, 1), stride=(1, 1))\n",
    "    embedder.load_state_dict(checkpoint['state_dict'])\n",
    "    embedder = embedder.to(device)    \n",
    "\n",
    "if layer != 12:\n",
    "    for layer_num in range(layer + 1, 13): \n",
    "        embedder.module.features[layer_num] = torch.nn.Identity()\n",
    "    if layer != 11:\n",
    "        embedder.module.classifier = torch.nn.Identity()\n",
    "try:\n",
    "    embedder.module.fc = torch.nn.Identity()\n",
    "except AttributeError:\n",
    "    embedder.fc = torch.nn.Identity()\n",
    "for p in embedder.parameters():\n",
    "    p.requires_grad = False\n",
    "\n",
    "dataset_distances = [[] for _ in range(len(class_groups))]\n",
    "if dist_type == 'otdd':\n",
    "    feature_cost = FeatureCost(src_embedding = embedder,\n",
    "                           src_dim = (3,224,224),\n",
    "                           tgt_embedding = embedder,\n",
    "                           tgt_dim = (3,224,224),\n",
    "                           p = 2,\n",
    "                           device=device)\n",
    "    \n",
    "    for i in range(len(class_groups)):\n",
    "        for j in range(len(class_groups)):\n",
    "            if random:\n",
    "                dist = DatasetDistance(class_datasets[i], class_datasets[j],\n",
    "                                       inner_ot_method = 'exact',\n",
    "                                       debiased_loss = True,\n",
    "                                       p = 2, entreg = 1e-1,\n",
    "                                       device='cpu')\n",
    "            else:\n",
    "                dist = DatasetDistance(class_datasets[i], class_datasets[j],\n",
    "                                      inner_ot_method = 'exact',\n",
    "                                      debiased_loss = True,\n",
    "                                      feature_cost = feature_cost,\n",
    "                                      sqrt_method = 'spectral',\n",
    "                                      sqrt_niters=10,\n",
    "                                      precision='single',\n",
    "                                      p = 2, entreg = 1e-1,\n",
    "                                      device=device)\n",
    "\n",
    "            d = dist.distance()\n",
    "            dataset_distances[i].append(d)\n",
    "elif dist_type == 'cosine':\n",
    "    avg_vectors = []\n",
    "    for dataset in class_datasets:\n",
    "        mean_batch_vectors = []\n",
    "        for batch in dataset:\n",
    "            mean_batch_vectors.append(torch.mean(embedder(batch[0]), axis=0))\n",
    "        avg_vectors.append(torch.mean(torch.stack(mean_batch_vectors), axis=0).detach().cpu().numpy())\n",
    "    for i in range(len(class_groups)):\n",
    "        for j in range(len(class_groups)):\n",
    "            dist = spatial.distance.cosine(avg_vectors[i], avg_vectors[j])\n",
    "            dataset_distances[i].append(dist)\n",
    "elif dist_type == 'euclidean':\n",
    "    avg_vectors = []\n",
    "    for dataset in class_datasets:\n",
    "        mean_batch_vectors = []\n",
    "        for batch in dataset:\n",
    "            mean_batch_vectors.append(torch.mean(embedder(batch[0]), axis=0))\n",
    "        avg_vectors.append(torch.mean(torch.stack(mean_batch_vectors), axis=0).detach().cpu().numpy())\n",
    "    for i in range(len(class_groups)):\n",
    "        for j in range(len(class_groups)):\n",
    "            dist = spatial.distance.euclidean(avg_vectors[i], avg_vectors[j])\n",
    "            dataset_distances[i].append(dist)"
   ]
  },
  {
   "cell_type": "code",
   "execution_count": 101,
   "id": "879814ee",
   "metadata": {},
   "outputs": [],
   "source": [
    "for lst in dataset_distances:\n",
    "    for idx, num in enumerate(lst):\n",
    "        try:\n",
    "            lst[idx] = num.item()\n",
    "        except AttributeError:\n",
    "            lst[idx] = num\n",
    "\n",
    "dataset_distances_norm = [[float(i)/sum(j) for i in j ]for j in dataset_distances]"
   ]
  },
  {
   "cell_type": "code",
   "execution_count": 102,
   "id": "cdb53fd9",
   "metadata": {},
   "outputs": [
    {
     "data": {
      "text/plain": [
       "<AxesSubplot:>"
      ]
     },
     "execution_count": 102,
     "metadata": {},
     "output_type": "execute_result"
    },
    {
     "data": {
      "image/png": "[encoded data removed]",
      "text/plain": [
       "<Figure size 600x400 with 2 Axes>"
      ]
     },
     "metadata": {
      "needs_background": "light"
     },
     "output_type": "display_data"
    }
   ],
   "source": [
    "fig, ax = plt.subplots(figsize=(6,4), dpi=100)\n",
    "sns.heatmap(\n",
    "    dataset_distances_norm, cmap='binary',\n",
    "    xticklabels=tick_labels, yticklabels=tick_labels,\n",
    "    ax=ax,\n",
    ")"
   ]
  },
  {
   "cell_type": "code",
   "execution_count": 103,
   "id": "c27f5bed",
   "metadata": {},
   "outputs": [],
   "source": [
    "var_dict = {}\n",
    "sorted_adjacency_list = {}\n",
    "for el, tick in zip(dataset_distances_norm, tick_labels):\n",
    "    var_dict[tick] = np.var(el)\n",
    "    \n",
    "    sorted_adjacency_list[tick] = []\n",
    "    for idx, dist in enumerate(el):\n",
    "        sorted_adjacency_list[tick].append((dist, tick_labels[idx]))\n",
    "    sorted_adjacency_list[tick].sort(key = lambda x: x[0])\n",
    "#     sorted_adjacency_list[tick] = [x[1] for x in sorted_adjacency_list[tick]]\n",
    "    sorted_adjacency_list[tick].pop(0)\n",
    "\n",
    "sum_var = sum(list(var_dict.values()))\n",
    "for key, val in var_dict.items():\n",
    "    var_dict[key] = val / sum_var"
   ]
  },
  {
   "cell_type": "code",
   "execution_count": 104,
   "id": "914f5c73",
   "metadata": {},
   "outputs": [
    {
     "name": "stdout",
     "output_type": "stream",
     "text": [
      "{'airplane': 0.18587931239992533,\n",
      " 'automobile': 0.18796736394108302,\n",
      " 'bird': 0.19803528839187762,\n",
      " 'cat': 0.2121030214592433,\n",
      " 'deer': 0.21601501380787055}\n",
      "{'airplane': [(0.21260950224462896, 'bird'),\n",
      "              (0.25068274400785073, 'deer'),\n",
      "              (0.26317208318316493, 'cat'),\n",
      "              (0.27353528088286105, 'automobile')],\n",
      " 'automobile': [(0.22163060133953771, 'deer'),\n",
      "                (0.23795881436612212, 'bird'),\n",
      "                (0.24846594828067436, 'cat'),\n",
      "                (0.2919442299204218, 'airplane')],\n",
      " 'bird': [(0.19716497684573356, 'deer'),\n",
      "          (0.23373433258546517, 'cat'),\n",
      "          (0.2777919914274211, 'airplane'),\n",
      "          (0.29130817203222464, 'automobile')],\n",
      " 'cat': [(0.19338313263076937, 'deer'),\n",
      "         (0.21381503105681593, 'bird'),\n",
      "         (0.27824898596160763, 'automobile'),\n",
      "         (0.3145523648253749, 'airplane')],\n",
      " 'deer': [(0.19571256770318313, 'bird'),\n",
      "          (0.20984157020999203, 'cat'),\n",
      "          (0.2693204235548667, 'automobile'),\n",
      "          (0.3251249593131447, 'airplane')]}\n"
     ]
    }
   ],
   "source": [
    "pprint.pprint(var_dict)\n",
    "pprint.pprint(sorted_adjacency_list)"
   ]
  }
 ],
 "metadata": {
  "kernelspec": {
   "display_name": "pytorch36",
   "language": "python",
   "name": "pytorch36"
  },
  "language_info": {
   "codemirror_mode": {
    "name": "ipython",
    "version": 3
   },
   "file_extension": ".py",
   "mimetype": "text/x-python",
   "name": "python",
   "nbconvert_exporter": "python",
   "pygments_lexer": "ipython3",
   "version": "3.6.13"
  }
 },
 "nbformat": 4,
 "nbformat_minor": 5
}
